{
 "cells": [
  {
   "cell_type": "code",
   "execution_count": 3,
   "id": "360e2231",
   "metadata": {},
   "outputs": [
    {
     "name": "stdout",
     "output_type": "stream",
     "text": [
      "Id of variable: 140633490272304 and Type of variable: <class 'complex'>\n"
     ]
    }
   ],
   "source": [
    "# Declare a complex number and store it in a variable.\n",
    "# Check the type and print the id of the same.\n",
    "\n",
    "a = 10+20j\n",
    "print(\"Id of variable:\",id(a), \"and Type of variable:\", type(a) )"
   ]
  },
  {
   "cell_type": "code",
   "execution_count": 8,
   "id": "0a1a41e8",
   "metadata": {},
   "outputs": [
    {
     "name": "stdout",
     "output_type": "stream",
     "text": [
      "Sum of a and b: (30+50j)\n",
      "Difference between a and b: (-10-10j)\n",
      "product of a and b: (-400+700j)\n",
      "a/b: (0.6153846153846154+0.0769230769230769j)\n",
      "a power b: (-2348247776258.441+2822337984266.558j)\n"
     ]
    }
   ],
   "source": [
    "# Arithmetic Operations on complex number\n",
    "# Take two different complex numbers.\n",
    "# Store them in two different variables.\n",
    "# Do below operations on them:-\n",
    "# Find sum of both numbers\n",
    "# Find difference between them\n",
    "# Find the product of both numbers.\n",
    "# Find value after dividing first num with second number\n",
    "# Find the result of the first num to the power of the second number.\n",
    "\n",
    "\n",
    "a = 10+20j\n",
    "b = 20+30j\n",
    "print(\"Sum of a and b:\",a+b)\n",
    "print(\"Difference between a and b:\", a-b)\n",
    "print(\"product of a and b:\", a*b)\n",
    "print(\"a/b:\", a/b)\n",
    "print(\"a power b:\", a**b)"
   ]
  },
  {
   "cell_type": "code",
   "execution_count": 9,
   "id": "623d348b",
   "metadata": {},
   "outputs": [
    {
     "name": "stdout",
     "output_type": "stream",
     "text": [
      "False\n",
      "True\n"
     ]
    }
   ],
   "source": [
    "# Equality Operator\n",
    "# Take two different complex numbers.\n",
    "# Store them in two different variables.\n",
    "# Equate them using equality operators (==, !=)\n",
    "# Observe the output(return type should be boolean)\n",
    "\n",
    "a = 10+20j\n",
    "b = 10+25j\n",
    "print(a==b)\n",
    "print(a!=b)"
   ]
  },
  {
   "cell_type": "code",
   "execution_count": 10,
   "id": "0619ad64",
   "metadata": {},
   "outputs": [
    {
     "name": "stdout",
     "output_type": "stream",
     "text": [
      "(20+30j)\n",
      "0j\n",
      "0j\n",
      "0j\n",
      "(10+20j)\n",
      "(20+30j)\n",
      "(20+30j)\n",
      "0j\n",
      "False\n",
      "True\n"
     ]
    }
   ],
   "source": [
    "# Logical operators\n",
    "# Observe the output of below code\n",
    "# Cross check the output manually\n",
    "print(10+20j and 20+30j)\n",
    "print(0+0j and 20+30j)\n",
    "print(20+30j and 0+0j)\n",
    "print(0+0j and 0+0j)\n",
    "print(10+20j or 20+30j)\n",
    "print(0+0j or 20+30j)\n",
    "print(20+30j or 0+0j)\n",
    "print(0+0j or 0+0j)\n",
    "print(not 10+20j)\n",
    "print(not 0+0j)"
   ]
  },
  {
   "cell_type": "code",
   "execution_count": 11,
   "id": "cb125ea7",
   "metadata": {},
   "outputs": [
    {
     "name": "stdout",
     "output_type": "stream",
     "text": [
      "False\n",
      "True\n"
     ]
    }
   ],
   "source": [
    "# What is the output of the expression inside the print statement.\n",
    "# Cross check before running the program.\n",
    "\n",
    "a = 10+20j\n",
    "b = 10+20j\n",
    "print(a is b)\n",
    "print(a is not b)"
   ]
  },
  {
   "cell_type": "code",
   "execution_count": 12,
   "id": "a2de58b7",
   "metadata": {},
   "outputs": [
    {
     "name": "stdout",
     "output_type": "stream",
     "text": [
      "True\n",
      "True\n",
      "True\n",
      "True\n",
      "True\n",
      "True\n"
     ]
    }
   ],
   "source": [
    "# Membership operation\n",
    "# in, not in are two membership operators and it returns boolean value\n",
    "print('2.7' in 'Python2.7.8')\n",
    "print(10+20j in [10,10.20,10+20j,'Python'])\n",
    "print(10+20j in (10,10.20,10+20j,'Python'))\n",
    "print(30+40j in {1,20.30,30+40j})\n",
    "print(30+40j in {1:100, 2.3:200, 30+40j:300})\n",
    "print(10 in range(20))"
   ]
  },
  {
   "cell_type": "code",
   "execution_count": null,
   "id": "9abda101",
   "metadata": {},
   "outputs": [],
   "source": []
  }
 ],
 "metadata": {
  "kernelspec": {
   "display_name": "Python 3 (ipykernel)",
   "language": "python",
   "name": "python3"
  },
  "language_info": {
   "codemirror_mode": {
    "name": "ipython",
    "version": 3
   },
   "file_extension": ".py",
   "mimetype": "text/x-python",
   "name": "python",
   "nbconvert_exporter": "python",
   "pygments_lexer": "ipython3",
   "version": "3.9.7"
  }
 },
 "nbformat": 4,
 "nbformat_minor": 5
}
