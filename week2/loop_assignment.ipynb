{
 "cells": [
  {
   "cell_type": "code",
   "execution_count": 46,
   "id": "50ef72e8-b3ce-437e-a004-d41a722835c7",
   "metadata": {},
   "outputs": [
    {
     "name": "stdout",
     "output_type": "stream",
     "text": [
      "Enter the number:45\n",
      "Number outside the range\n"
     ]
    }
   ],
   "source": [
    "# W. A P. which takes one number from 0 to 9 from the user and prints\n",
    "# it in the word. And if the word is not from 0 to 9 then\n",
    "# it should print that number is outside of the range and program should\n",
    "# exit.\n",
    "# For exapmple:-\n",
    "# input = 1\n",
    "# output = one\n",
    "\n",
    "inp=int(input(\"Enter the number:\"))\n",
    "while(inp>=0 and inp<=9):\n",
    "    if(inp==0):\n",
    "        print(\"Zero\")\n",
    "        break\n",
    "    if(inp==1):\n",
    "        print(\"One\")\n",
    "        break\n",
    "    if(inp==2):\n",
    "        print(\"Two\")\n",
    "        break\n",
    "    if(inp==3):\n",
    "        print(\"Three\")\n",
    "        break\n",
    "    if(inp==4):\n",
    "        print(\"Four\")\n",
    "        break\n",
    "    if(inp==5):\n",
    "        print(\"Five\")\n",
    "        break\n",
    "    if(inp==6):\n",
    "        print(\"Six\")\n",
    "        break\n",
    "    if(inp==7):\n",
    "        print(\"Seven\")\n",
    "        break\n",
    "    if(inp==8):\n",
    "        print(\"Eight\")\n",
    "        break\n",
    "    if(inp==9):\n",
    "        print(\"Nine\")\n",
    "        break\n",
    "else:\n",
    "    print(\"Number outside the range\")"
   ]
  },
  {
   "cell_type": "code",
   "execution_count": 55,
   "id": "4527afbf-3353-4205-a403-a1918297ef9a",
   "metadata": {},
   "outputs": [
    {
     "name": "stdout",
     "output_type": "stream",
     "text": [
      "Enter first number:42\n",
      "Enter second number:7\n",
      "* To add enter 1\n",
      "* To subtract enter 2\n",
      "* To multiply enter 3\n",
      "* To divide enter 4\n",
      "* To divide and find quotient enter 5\n",
      "* To divide and find remainder enter 6\n",
      "* To divide and find num1 to the power of num2 enter 7\n",
      "* To Come out of the program enter 8\n",
      "Enter the number as per above operation list:4\n",
      "Division of 42 and 7: 6.0\n",
      "Enter the number from operation list:8\n",
      "Thanks for using the calculator\n"
     ]
    }
   ],
   "source": [
    "# W. A P. to implement calculator but the operation to be done and two\n",
    "# numbers will be taken as input from user:-\n",
    "# Operation console should show below:-\n",
    "# Please select any one operation from below:-\n",
    "# * To add enter 1\n",
    "# * to subtract enter 2\n",
    "# * To multiply enter 3\n",
    "# * To divide enter 4\n",
    "# * To divide and find quotient enter 5\n",
    "# * To divide and find remainder enter 6\n",
    "# * To divide and find num1 to the power of num2 enter 7\n",
    "# * To Come out of the program enter 8\n",
    "\n",
    "num1=int(input(\"Enter first number:\"))\n",
    "num2=int(input(\"Enter second number:\"))\n",
    "print('''* To add enter 1\n",
    "* To subtract enter 2\n",
    "* To multiply enter 3\n",
    "* To divide enter 4\n",
    "* To divide and find quotient enter 5\n",
    "* To divide and find remainder enter 6\n",
    "* To divide and find num1 to the power of num2 enter 7\n",
    "* To Come out of the program enter 8''')\n",
    "opr=int(input(\"Enter the number as per above operation list:\"))\n",
    "while opr !=8:\n",
    "    if(opr==1):\n",
    "        print(f\"Sum of {num1} and {num2}:\", num1+num2)\n",
    "        opr=int(input(\"Enter the number from operation list:\"))\n",
    "    elif(opr==2):\n",
    "        print(f\"Difference of {num1} and {num2}:\", num1-num2)\n",
    "        opr=int(input(\"Enter the number from operation list:\"))\n",
    "    elif(opr==3):\n",
    "        print(f\"Product of {num1} and {num2}:\", num1*num2)\n",
    "        opr=int(input(\"Enter the number from operation list:\"))\n",
    "    elif(opr==4):\n",
    "        print(f\"Division of {num1} and {num2}:\", num1/num2)\n",
    "        opr=int(input(\"Enter the number from operation list:\"))\n",
    "    elif(opr==5):\n",
    "        print(f\"Quotient of {num1} and {num2}:\", num1//num2)\n",
    "        opr=int(input(\"Enter the number from operation list:\"))\n",
    "    elif(opr==6):\n",
    "        print(f\"Remainder of {num1} and {num2}:\", num1%num2)\n",
    "        opr=int(input(\"Enter the number from operation list:\"))\n",
    "    elif(opr==7):\n",
    "        print(f\"{num1} to power {num2}:\", num2**num1)\n",
    "        opr=int(input(\"Enter the number from operation list:\"))\n",
    "    else:\n",
    "        print()\n",
    "        print(\"Enter Valid number from list\")\n",
    "        opr=int(input(\"Enter the number from operation list:\"))\n",
    "else:\n",
    "    print(\"Thanks for using the calculator\")"
   ]
  },
  {
   "cell_type": "code",
   "execution_count": 61,
   "id": "01f1b7e9-c271-4d59-b84a-d420d7dfe294",
   "metadata": {},
   "outputs": [
    {
     "name": "stdout",
     "output_type": "stream",
     "text": [
      "Enter the Number:2006\n",
      "2006 is not a leap year\n"
     ]
    }
   ],
   "source": [
    "# W A P to check whether a year entered by user is an leap year or not?\n",
    "# Check with below input:-\n",
    "# leap year:- 2012, 1968, 2004, 1200, 1600,2400\n",
    "# Non-lear year:- 1971, 2006, 1700,1800,1900\n",
    "\n",
    "inp=int(input(\"Enter the Number:\"))\n",
    "if((inp%4==0 and inp%100!=0) or inp%400==0):\n",
    "    print(f\"{inp} is leap year\")\n",
    "else:\n",
    "    print(f\"{inp} is not a leap year\")\n",
    "    "
   ]
  },
  {
   "cell_type": "code",
   "execution_count": 63,
   "id": "c37bdbfc-b46b-4646-beaa-7db43cca49c5",
   "metadata": {},
   "outputs": [
    {
     "name": "stdout",
     "output_type": "stream",
     "text": [
      "Enter The Number:22\n",
      "22 is even number\n"
     ]
    }
   ],
   "source": [
    "# W A P which takes one number from the user and checks whether it is\n",
    "# an even or odd number?, If it even then prints number is\n",
    "# even number else prints that number is odd number.\n",
    "\n",
    "inp=int(input(\"Enter The Number:\"))\n",
    "if(inp%2==0):\n",
    "    print(f\"{inp} is even number\")\n",
    "else:\n",
    "    print(f\"{inp} is odd number\")"
   ]
  },
  {
   "cell_type": "code",
   "execution_count": 70,
   "id": "fc80a595",
   "metadata": {},
   "outputs": [
    {
     "name": "stdout",
     "output_type": "stream",
     "text": [
      "Enter First number:34\n",
      "Enter second number:22\n",
      "num1 is greater than num2\n",
      "num1 is greater than num2\n"
     ]
    }
   ],
   "source": [
    "# W A P which takes two numbers from the user and prints below output:-\n",
    "# 1. num1 is greater than num2 if num1 is greater than num2\n",
    "# 2. num1 is smaller than num2 if num1 is smaller than num2\n",
    "# 3. num1 is equal to num2 if num1 and num2 are equal\n",
    "\n",
    "#first using if and else\n",
    "num1=int(input(\"Enter First number:\"))\n",
    "num2=int(input(\"Enter second number:\"))\n",
    "if(num1>num2):\n",
    "    print(\"num1 is greater than num2\")\n",
    "elif(num1<num2):\n",
    "    print(\"num1 is smaller than num2\")\n",
    "else:\n",
    "    print(\"num1 is equal to num2\")\n",
    "    \n",
    "#second using ternary\n",
    "print(\"num1 is greater than num2\" if(num1>num2) else \"num1 is smaller than num2\" if(num1<num2) else \"num1 is equal to num2\")"
   ]
  },
  {
   "cell_type": "code",
   "execution_count": 74,
   "id": "8008b810",
   "metadata": {},
   "outputs": [
    {
     "name": "stdout",
     "output_type": "stream",
     "text": [
      "Enter first number:34\n",
      "Enter second number:45\n",
      "Enter third number:56\n",
      "num3 is greater than num2 and num1\n",
      "num3 is greater than num2 and num1\n"
     ]
    }
   ],
   "source": [
    "# W A P which takes three numbers from the user and prints below\n",
    "# output:-\n",
    "# 1. num1 is greater than num2 and num3 if num1 is greater than num2\n",
    "# and num3\n",
    "# 2. num2 is greater than num1 and num3 if num2 is greater than num1\n",
    "# and num3\n",
    "\n",
    "# 3. num3 is greater than num1 and num2 if num3 is greater than num1\n",
    "# and num2\n",
    "# Note:- 1. Do this problem using if - elif - else\n",
    "# 2. Do this using ternary operator\n",
    "\n",
    "num1=int(input(\"Enter first number:\"))\n",
    "num2=int(input(\"Enter second number:\"))\n",
    "num3=int(input(\"Enter third number:\"))\n",
    "\n",
    "if(num1>num2 and num1>num3):\n",
    "    print(\"num1 is greater than num2 and num3\")\n",
    "elif(num2>num3):\n",
    "    print(\"num2 is greater than num1 and num3\")\n",
    "else:\n",
    "    print(\"num3 is greater than num2 and num1\")\n",
    "    \n",
    "    \n",
    "print(\"num1 is greater than num2 and num3\" if(num1>num2 and num1>num3) else \"num2 is greater than num1 and num3\" if(num2>num3) else \"num3 is greater than num2 and num1\")"
   ]
  },
  {
   "cell_type": "code",
   "execution_count": 76,
   "id": "8e22809b",
   "metadata": {},
   "outputs": [
    {
     "name": "stdout",
     "output_type": "stream",
     "text": [
      "55\n"
     ]
    }
   ],
   "source": [
    "# Write a Python program to find the length of the my_str using loop:-\n",
    "# Input:- 'Write a Python program to find the length of the my_str'\n",
    "# Output:- 55\n",
    "\n",
    "inp='Write a Python program to find the length of the my_str'\n",
    "count=0\n",
    "for i in inp:\n",
    "    count+=1\n",
    "print(count)"
   ]
  },
  {
   "cell_type": "code",
   "execution_count": 78,
   "id": "82d382fd",
   "metadata": {},
   "outputs": [
    {
     "name": "stdout",
     "output_type": "stream",
     "text": [
      "9\n"
     ]
    }
   ],
   "source": [
    "# Write a Python program to find the total number of times letter 'p'\n",
    "# is appeared in the below string using loop:-\n",
    "# Input:- 'peter piper picked a peck of pickled peppers.\\n'\n",
    "# Output:- 9\n",
    "\n",
    "inp=\"peter piper picked a peck of pickled peppers.\\n\"\n",
    "c=0\n",
    "for i in inp:\n",
    "    if(i==\"p\"):\n",
    "        c+=1\n",
    "print(c)"
   ]
  },
  {
   "cell_type": "code",
   "execution_count": 81,
   "id": "7d8b3761",
   "metadata": {},
   "outputs": [
    {
     "name": "stdout",
     "output_type": "stream",
     "text": [
      "0\n",
      "6\n",
      "8\n",
      "12\n",
      "21\n",
      "29\n",
      "37\n",
      "39\n",
      "40\n"
     ]
    }
   ],
   "source": [
    "# Write a Python Program, to print all the indexes of all occurences of\n",
    "# letter 'p' appeared in the string using loop:-\n",
    "# Input:- 'peter piper picked a peck of pickled peppers.'\n",
    "# Output:-\n",
    "# 0\n",
    "# 6\n",
    "# 8\n",
    "# 12\n",
    "# 21\n",
    "# 29\n",
    "# 37\n",
    "# 39\n",
    "# 40\n",
    "\n",
    "inp='peter piper picked a peck of pickled peppers.'\n",
    "c=0\n",
    "for i in range(len(inp)):\n",
    "    if(inp[i]==\"p\"):\n",
    "        print(i)"
   ]
  },
  {
   "cell_type": "code",
   "execution_count": 96,
   "id": "16adad10",
   "metadata": {},
   "outputs": [
    {
     "name": "stdout",
     "output_type": "stream",
     "text": [
      "['peter', 'piper', 'picked', 'a', 'peck', 'of', 'pickled', 'peppers.']\n"
     ]
    }
   ],
   "source": [
    "# Write a python program to find below output using loop:-\n",
    "# Input:- 'peter piper picked a peck of pickled peppers.'\n",
    "# Output:- ['peter', 'piper', 'picked', 'a', 'peck', 'of', 'pickled',\n",
    "# 'peppers']\n",
    "\n",
    "inp='peter piper picked a peck of pickled peppers.'\n",
    "out=\"\"\n",
    "lst=[]\n",
    "for i in range(len(inp)):\n",
    "    if(inp[i]==\" \"):\n",
    "        lst+=[out]\n",
    "        out=\"\"\n",
    "    elif(i==len(inp)-1):\n",
    "        out+=inp[i]\n",
    "        lst+=[out]\n",
    "    else:\n",
    "        out+=inp[i]\n",
    "print(lst)\n",
    "        \n",
    "    "
   ]
  },
  {
   "cell_type": "code",
   "execution_count": 105,
   "id": "ac2dd3eb",
   "metadata": {},
   "outputs": [
    {
     "name": "stdout",
     "output_type": "stream",
     "text": [
      " peppers. pickled of peck a picked piper\n"
     ]
    }
   ],
   "source": [
    "# Write a python program to find below output using loop:-\n",
    "# Input:- 'peter piper picked a peck of pickled peppers.'\n",
    "# Output:- 'peppers pickled of peck a picked piper peter'\n",
    "\n",
    "inp=\"peter piper picked a peck of pickled peppers.\"\n",
    "out=\"\"\n",
    "res=''\n",
    "for i in range(-1,-len(inp)-1,-1):\n",
    "    if(inp[i]==\" \"):\n",
    "        res+=\" \"+out\n",
    "        out=''\n",
    "    else:\n",
    "        out=inp[i]+out\n",
    "print(res)"
   ]
  },
  {
   "cell_type": "code",
   "execution_count": 26,
   "id": "c436c2f1",
   "metadata": {},
   "outputs": [
    {
     "name": "stdout",
     "output_type": "stream",
     "text": [
      " sreppep delkcip fo kcep a dekcip repip retep\n"
     ]
    }
   ],
   "source": [
    "# Write a python program to find below output using loop:-\n",
    "# Input:- 'peter piper picked a peck of pickled peppers.'\n",
    "# Output:- '.sreppep delkcip fo kcep a dekcip repip retep'\n",
    "\n",
    "inp='peter piper picked a peck of pickled peppers'\n",
    "out=\"\"\n",
    "res=\"\"\n",
    "for i in range(-1,-len(inp)-1,-1):\n",
    "    if(inp[i]==\" \"):\n",
    "        res+=\" \"+out\n",
    "        out=\"\"\n",
    "    elif(i==-len(inp)):\n",
    "        out+=inp[i]\n",
    "        res+=\" \"+out\n",
    "    else:\n",
    "        out+=inp[i]\n",
    "print(res)\n",
    "    "
   ]
  },
  {
   "cell_type": "code",
   "execution_count": 25,
   "id": "f64306ef",
   "metadata": {},
   "outputs": [
    {
     "name": "stdout",
     "output_type": "stream",
     "text": [
      " retep repip dekcip a kcep fo delkcip .sreppep\n"
     ]
    }
   ],
   "source": [
    "# Write a python program to find below output using loop:-\n",
    "# Input:- 'peter piper picked a peck of pickled peppers.'\n",
    "# Output:- 'retep repip dekcip a kcep fo delkcip sreppep'\n",
    "\n",
    "inp='peter piper picked a peck of pickled peppers'\n",
    "res=\"\"\n",
    "out=\"\"\n",
    "for i in range(len(inp)):\n",
    "    if(inp[i]==\" \"):\n",
    "        out+=\" \"+res\n",
    "        res=\"\"\n",
    "    elif(i==len(inp)-1):\n",
    "        res=inp[i]+res\n",
    "        out+=\" \"+res\n",
    "    else:\n",
    "        res=inp[i]+res\n",
    "print(out)"
   ]
  },
  {
   "cell_type": "code",
   "execution_count": 31,
   "id": "6d43fb28",
   "metadata": {},
   "outputs": [
    {
     "name": "stdout",
     "output_type": "stream",
     "text": [
      " Peter Piper Picked A Peck Of Pickled Peppers\n"
     ]
    }
   ],
   "source": [
    "# Write a python program to find below output using loop:-\n",
    "# Input:- 'peter piper picked a peck of pickled peppers'\n",
    "# Output:- 'Peter Piper Picked A Peck Of Pickled Peppers'\n",
    "\n",
    "inp=\"peter piper picked a peck of pickled peppers\"\n",
    "r=-1\n",
    "out=\"\"\n",
    "res=\"\"\n",
    "for i in range(len(inp)):\n",
    "    if(inp[i]==\" \"):\n",
    "        res+=\" \"+out\n",
    "        out=\"\"\n",
    "        r=i\n",
    "    elif(i==r+1):\n",
    "        out+=inp[i].upper()\n",
    "    elif(i==len(inp)-1):\n",
    "        out+=inp[i]\n",
    "        res+=\" \"+out\n",
    "    else:\n",
    "        out+=inp[i]\n",
    "print(res)\n",
    "        "
   ]
  },
  {
   "cell_type": "code",
   "execution_count": 42,
   "id": "75a48908",
   "metadata": {},
   "outputs": [
    {
     "name": "stdout",
     "output_type": "stream",
     "text": [
      " Peter piper picked a peck of pickled peppers\n"
     ]
    }
   ],
   "source": [
    "# Write a python program to find below output using loop:-\n",
    "# Input:- 'Peter Piper Picked A Peck Of Pickled Peppers.'\n",
    "# Output:- 'Peter piper picked a peck of pickled peppers'\n",
    "\n",
    "inp='Peter Piper Picked A Peck Of Pickled Peppers'\n",
    "res=\"\"\n",
    "out=\"\"\n",
    "for i in range(len(inp)):\n",
    "    if(inp[i]==\" \"):\n",
    "        res+=\" \"+out\n",
    "        out=\"\"\n",
    "        r=i\n",
    "    elif(i==r+1):\n",
    "        out+=inp[i].lower()\n",
    "    elif(i==len(inp)-1):\n",
    "        out+=inp[i]\n",
    "        res+=\" \"+out\n",
    "    else:\n",
    "        out+=inp[i]\n",
    "print(res)"
   ]
  },
  {
   "cell_type": "code",
   "execution_count": 83,
   "id": "cd1ef3e4",
   "metadata": {},
   "outputs": [
    {
     "name": "stdout",
     "output_type": "stream",
     "text": [
      "29\n"
     ]
    }
   ],
   "source": [
    "# Write a python program to implement index method using loop. If\n",
    "# sub_str is found in my_str then it will print the index\n",
    "# of first occurrence of first character of matching string in my_str:-\n",
    "# Input:- my_str = 'Peter Piper Picked A Peck Of Pickled Peppers.',\n",
    "# sub_str = 'Pickl'\n",
    "# Output:- 29\n",
    "\n",
    "my_str = 'Peter Piper Picked A Peck Of Pickled Peppers.'\n",
    "sub_str = \"Pickl\"\n",
    "for i in range(len(my_str)):\n",
    "    if(my_str[i:i+len(sub_str)]==sub_str):\n",
    "        print(i)\n",
    "            \n",
    "        "
   ]
  },
  {
   "cell_type": "code",
   "execution_count": 122,
   "id": "1cf3c82d",
   "metadata": {},
   "outputs": [
    {
     "name": "stdout",
     "output_type": "stream",
     "text": [
      " Peter Piper Picked A Pack Of Peckled Peppers.\n"
     ]
    }
   ],
   "source": [
    "# Write a python program to implement replace method using loop. If\n",
    "# sub_str is found in my_str then it will replace the first\n",
    "# occurrence of sub_str with new_str else it will will print sub_str not\n",
    "# found:-\n",
    "# Input:- my_str = 'Peter Piper Picked A Peck Of Pickled Peppers.',\n",
    "# sub_str = 'Peck', new_str = 'Pack'\n",
    "# Output:- 'Peter Piper Picked A Pack Of Pickled Peppers.'\n",
    "\n",
    "my_str = 'Peter Piper Picked A Peck Of Peckled Peppers.'\n",
    "sub_str = 'Peck'\n",
    "new_str = 'Pack'\n",
    "out=\"\"\n",
    "lst=[]\n",
    "res=\"\"\n",
    "for i in range(len(my_str)):\n",
    "    if(my_str[i]==\" \"):\n",
    "        lst+=[out]\n",
    "        out=\"\"\n",
    "    elif(i==len(my_str)-1):\n",
    "        out+=my_str[i]\n",
    "        lst+=[out]\n",
    "    else:\n",
    "        out+=my_str[i]\n",
    "for i in range(len(lst)):\n",
    "    if(lst[i][:len(sub_str)+1:]==sub_str):\n",
    "        lst[i]=new_str\n",
    "for i in lst:\n",
    "    res+=\" \"+i\n",
    "print(res)"
   ]
  },
  {
   "cell_type": "code",
   "execution_count": 126,
   "id": "d47884f1",
   "metadata": {},
   "outputs": [
    {
     "name": "stdout",
     "output_type": "stream",
     "text": [
      "*****************Peck********************\n"
     ]
    }
   ],
   "source": [
    "# Q. Write a python program to find below output (implements rjust and\n",
    "# ljust) using loop:-\n",
    "# Input:- 'Peter Piper Picked A Peck Of Pickled Peppers.', sub_str =\n",
    "# 'Peck',\n",
    "# Output:- '*********************Peck********************'\n",
    "\n",
    "inp='Peter Piper Picked A Peck Of Pickled Peppers.'\n",
    "sub_str ='Peck'\n",
    "a=\"\"\n",
    "for i in range(len(inp)):\n",
    "    if(inp[i:i+len(sub_str)]==sub_str):\n",
    "        inp=sub_str.rjust(i,\"*\")+\"\".ljust(len(inp)-i-len(sub_str),\"*\")\n",
    "print(inp)"
   ]
  },
  {
   "cell_type": "code",
   "execution_count": 137,
   "id": "33da86e9",
   "metadata": {},
   "outputs": [
    {
     "name": "stdout",
     "output_type": "stream",
     "text": [
      "['This', 'is', ' Python class']\n"
     ]
    }
   ],
   "source": [
    "# Q. Write a python program to find below output using loop:-\n",
    "# Input:- 'This is Python class', sep = ' is',\n",
    "# Output:- ['This', 'is', 'Python class']\n",
    "\n",
    "inp='This is Python class'\n",
    "sep=' is'\n",
    "res=[]\n",
    "for i in range(len(inp)):\n",
    "    if(inp[i:i+len(sep)]==sep):\n",
    "        res+=[inp[0:i]]+[sep.lstrip()]+[inp[i+len(sep):]]\n",
    "print(res)\n",
    "    \n"
   ]
  },
  {
   "cell_type": "code",
   "execution_count": null,
   "id": "0825d370",
   "metadata": {},
   "outputs": [],
   "source": []
  },
  {
   "cell_type": "code",
   "execution_count": null,
   "id": "58ca2050",
   "metadata": {},
   "outputs": [],
   "source": []
  }
 ],
 "metadata": {
  "kernelspec": {
   "display_name": "Python 3 (ipykernel)",
   "language": "python",
   "name": "python3"
  },
  "language_info": {
   "codemirror_mode": {
    "name": "ipython",
    "version": 3
   },
   "file_extension": ".py",
   "mimetype": "text/x-python",
   "name": "python",
   "nbconvert_exporter": "python",
   "pygments_lexer": "ipython3",
   "version": "3.9.7"
  }
 },
 "nbformat": 4,
 "nbformat_minor": 5
}
