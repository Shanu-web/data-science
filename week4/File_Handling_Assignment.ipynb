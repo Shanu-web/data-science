{
 "cells": [
  {
   "cell_type": "code",
   "execution_count": 4,
   "metadata": {},
   "outputs": [
    {
     "name": "stdout",
     "output_type": "stream",
     "text": [
      "Twinkle Twinkle Little star,\n",
      "How I wonder what you are,\n",
      "up above the world so high\n",
      "like a diamond in the sky\n"
     ]
    }
   ],
   "source": [
    "# Write a function in python to read the content from \n",
    "# a text file \"poem.txt\" line by line and display the same on screen.\n",
    "\n",
    "def red():\n",
    "    with open(\"poem.txt\",\"r\") as f:\n",
    "        print(f.read())\n",
    "        \n",
    "red()"
   ]
  },
  {
   "cell_type": "code",
   "execution_count": 14,
   "metadata": {},
   "outputs": [
    {
     "data": {
      "text/plain": [
       "3"
      ]
     },
     "execution_count": 14,
     "metadata": {},
     "output_type": "execute_result"
    }
   ],
   "source": [
    "# Write a function in python to count the number of lines \n",
    "# from a text file \"story.txt\" which is not starting with an alphabet \"T\". \n",
    "\n",
    "# Example: If the file \"story.txt\" contains the following lines: A boy is playing there.\n",
    "# There is a playground.\n",
    "# An aeroplane is in the sky.\n",
    "# The sky is pink.\n",
    "# Alphabets and numbers are allowed in the password.\n",
    "# The function should display the output as 3\n",
    "\n",
    "def story():\n",
    "    c=0\n",
    "    with open(\"story.txt\",\"w+\") as f:\n",
    "        f.write('''A boy is playing there.\n",
    "There is a playground.\n",
    "An aeroplane is in the sky.\n",
    "The sky is pink.\n",
    "Alphabets and numbers are allowed in the password.''')\n",
    "        f.seek(0)\n",
    "        lst=(f.read()).split(\"\\n\")\n",
    "        for i in lst:\n",
    "            if(i.startswith(\"T\")):\n",
    "                pass\n",
    "            else:\n",
    "                c+=1\n",
    "        return c\n",
    "story()"
   ]
  },
  {
   "cell_type": "code",
   "execution_count": 25,
   "metadata": {},
   "outputs": [
    {
     "name": "stdout",
     "output_type": "stream",
     "text": [
      "['A', 'boy', 'is', 'playing', 'there.\\nThere', 'is', 'a', 'playground.\\nAn', 'aeroplane', 'is', 'in', 'the', 'sky.\\nThe', 'sky', 'is', 'pink.\\nAlphabets', 'and', 'numbers', 'are', 'allowed', 'in', 'the', 'password.']\n",
      "23\n"
     ]
    }
   ],
   "source": [
    "# Write a function in Python to count and display the total number of words in a text file.\n",
    "\n",
    "def t_count():\n",
    "    with open(\"story.txt\",\"r\") as f:\n",
    "        f.seek(0)\n",
    "        lst=(f.read()).split(\" \")\n",
    "        print(lst)\n",
    "        print(len(lst))\n",
    "    \n",
    "\n",
    "t_count()"
   ]
  },
  {
   "cell_type": "code",
   "execution_count": 36,
   "metadata": {},
   "outputs": [
    {
     "data": {
      "text/plain": [
       "5"
      ]
     },
     "execution_count": 36,
     "metadata": {},
     "output_type": "execute_result"
    }
   ],
   "source": [
    "# Write a function in Python to read lines from a text file \"notes.txt\". \n",
    "# Your function should find and display the occurrence of the word \"the\".\n",
    "\n",
    "# For example: If the content of the file is:\n",
    "# \"India is the fastest-growing economy. India is looking for more investments around the globe. The whole world is looking at India as a great market. Most of the Indians can foresee the heights that India is capable of reaching.\"\n",
    "\n",
    "# The output should be 5.\n",
    "\n",
    "import re\n",
    "def notes():\n",
    "    c=0\n",
    "    with open(\"notes.txt\",\"r+\") as f:\n",
    "        content=f.read()\n",
    "        pattern=(r'(the|The)')\n",
    "        res=re.findall(pattern,content)\n",
    "        c=len(res)\n",
    "    return c\n",
    "notes()"
   ]
  },
  {
   "cell_type": "code",
   "execution_count": 38,
   "metadata": {},
   "outputs": [
    {
     "data": {
      "text/plain": [
       "16"
      ]
     },
     "execution_count": 38,
     "metadata": {},
     "output_type": "execute_result"
    }
   ],
   "source": [
    "# Write a function display_words() in python to read lines from a text file \"story.txt\", \n",
    "# and display those words, which are less than 4 characters.\n",
    "\n",
    "def display_words():\n",
    "    c=0\n",
    "    with open(\"story.txt\",\"r+\") as f:\n",
    "        f.seek(0)\n",
    "        lst=(f.read()).split()\n",
    "        for i in lst:\n",
    "            if(len(i)<4):\n",
    "                c+=1\n",
    "    return c\n",
    "display_words()\n"
   ]
  },
  {
   "cell_type": "code",
   "execution_count": 41,
   "metadata": {},
   "outputs": [
    {
     "data": {
      "text/plain": [
       "4"
      ]
     },
     "execution_count": 41,
     "metadata": {},
     "output_type": "execute_result"
    }
   ],
   "source": [
    "# Write a function in Python to count the words \"this\" and \"these\" present in a text file \"article.txt\". \n",
    "# [Note that the words \"this\" and \"these\" are complete words] \n",
    "\n",
    "import re\n",
    "def article_count():\n",
    "    with open(\"article.txt\",\"r+\") as f:\n",
    "        content=f.read()\n",
    "        pattern=(r'(this|these)')\n",
    "        res=re.findall(pattern,content)\n",
    "    return len(res)\n",
    "article_count()"
   ]
  },
  {
   "cell_type": "code",
   "execution_count": 44,
   "metadata": {},
   "outputs": [
    {
     "data": {
      "text/plain": [
       "21"
      ]
     },
     "execution_count": 44,
     "metadata": {},
     "output_type": "execute_result"
    }
   ],
   "source": [
    "# Write a function in Python to count words in a text file those are ending with alphabet \"e\"\n",
    "import re\n",
    "def article_count():\n",
    "    c=0\n",
    "    with open(\"article.txt\",\"r+\") as f:\n",
    "        lst=(f.read()).split()\n",
    "        for i in lst:\n",
    "            if(i.endswith(\"e\")):\n",
    "                c+=1\n",
    "    return c\n",
    "article_count()\n"
   ]
  },
  {
   "cell_type": "code",
   "execution_count": 49,
   "metadata": {},
   "outputs": [
    {
     "data": {
      "text/plain": [
       "8"
      ]
     },
     "execution_count": 49,
     "metadata": {},
     "output_type": "execute_result"
    }
   ],
   "source": [
    "# Write a function in Python to count uppercase character in a text file.\n",
    "\n",
    "import re\n",
    "def article_count():\n",
    "    c=0\n",
    "    with open(\"article.txt\",\"r+\") as f:\n",
    "        lst=(f.read()).split()\n",
    "        pattern=r'[A-Z]'\n",
    "        for i in lst:\n",
    "            if(re.search(pattern,i)):\n",
    "                c+=1\n",
    "    return c\n",
    "article_count()\n"
   ]
  },
  {
   "cell_type": "code",
   "execution_count": 56,
   "metadata": {},
   "outputs": [
    {
     "data": {
      "text/plain": [
       "'T#H#E# #W#O#R#L#D# #I#S# #R#O#U#N#D#'"
      ]
     },
     "execution_count": 56,
     "metadata": {},
     "output_type": "execute_result"
    }
   ],
   "source": [
    "# A text file named \"matter.txt\" contains some text, which needs to be displayed such that \n",
    "# every next character is separated by a symbol \"#\". \n",
    "# Write a function definition for hash_display() in Python that would display \n",
    "# the entire content of the file matter.txt in the desired format.\n",
    "\n",
    "# Example :\n",
    "# If the file matter.txt has the following content stored in it :\n",
    "# THE WORLD IS ROUND\n",
    "\n",
    "# The function hash_display() should display the following content :\n",
    "# T#H#E# #W#O#R#L#D# #I#S# #R#O#U#N#D#\n",
    "\n",
    "def matter():\n",
    "    with open(\"matter.txt\",\"w+\") as f:\n",
    "        f.write(\"THE WORLD IS ROUND\")\n",
    "        f.seek(0)\n",
    "        out=\"\"\n",
    "        content=f.read()\n",
    "        for i in range(len(content)):\n",
    "            out+=\"#\"+content[i]\n",
    "        return(out[1:]+\"#\")\n",
    "matter()\n",
    "        "
   ]
  },
  {
   "cell_type": "code",
   "execution_count": 58,
   "metadata": {},
   "outputs": [
    {
     "data": {
      "text/plain": [
       "'WELL, THIS IS A WORD BY ITSELF. YOU COULD STRETCH THIS TO BE A SENTENCE'"
      ]
     },
     "execution_count": 58,
     "metadata": {},
     "output_type": "execute_result"
    }
   ],
   "source": [
    "# Aditi has used a text editing software to type some text. After saving the article as WORDS.TXT, \n",
    "# she realised that she has wrongly typed alphabet J in place of alphabet I everywhere in the article.\n",
    "# Write a function definition for JTOI() in Python that would display the corrected version of entire content \n",
    "# of the file WORDS.TXT with all the alphabets \"J\" to be displayed as an alphabet \"I\" on screen.\n",
    "\n",
    "# Note: Assuming that WORD.TXT does not contain any J alphabet otherwise.\n",
    "\n",
    "# Example:\n",
    "# If Aditi has stored the following content in the file WORDS.TXT:\n",
    "# WELL, THJS JS A WORD BY JTSELF. YOU COULD STRETCH THJS TO BE A SENTENCE\n",
    "# The function JTOI() should display the following content:\n",
    "# WELL, THIS IS A WORD BY ITSELF. YOU COULD STRETCH THIS TO BE A SENTENCE\n",
    "\n",
    "def JTOI():\n",
    "    out=\"\"\n",
    "    with open(\"Words.txt\",\"w+\") as f:\n",
    "        f.write('''WELL, THJS JS A WORD BY JTSELF. YOU COULD STRETCH THJS TO BE A SENTENCE''')\n",
    "        f.seek(0)\n",
    "        content=f.read()\n",
    "        for i in range(len(content)):\n",
    "            if(content[i]==\"J\"):\n",
    "                out+=\"I\"\n",
    "            else:\n",
    "                out+=content[i]\n",
    "    return out\n",
    "    \n",
    "JTOI()\n"
   ]
  },
  {
   "cell_type": "code",
   "execution_count": 66,
   "metadata": {},
   "outputs": [
    {
     "name": "stdout",
     "output_type": "stream",
     "text": [
      "A or a: 13\n",
      "M or m: 1\n"
     ]
    }
   ],
   "source": [
    "# Write a function AMCount() in Python, which should read each character of a text file STORY.TXT, \n",
    "# should count and display the occurance of alphabets A and M (including small cases a and m too).\n",
    "# For Example:\n",
    "# If the file content is as follows:\n",
    "# Updated information\n",
    "# As simplified by official websites.\n",
    "# The EUCount() function should display the output as:\n",
    "# A or a:4\n",
    "# M or m :2\n",
    "\n",
    "def AMCount():\n",
    "    with open(\"story.txt\",\"r+\") as f:\n",
    "        content=f.read()\n",
    "        a=content.count(\"a\")+content.count(\"A\")\n",
    "        m=content.count(\"m\")+content.count(\"M\")\n",
    "        return(a,m)\n",
    "def EUCount():\n",
    "    n=AMCount()\n",
    "    print(\"A or a:\",n[0])\n",
    "    print(\"M or m:\",n[1])\n",
    "    \n",
    "EUCount()\n",
    "        \n",
    "    "
   ]
  },
  {
   "cell_type": "code",
   "execution_count": 95,
   "metadata": {},
   "outputs": [
    {
     "data": {
      "text/plain": [
       "2"
      ]
     },
     "execution_count": 95,
     "metadata": {},
     "output_type": "execute_result"
    }
   ],
   "source": [
    "# A binary file \"Book.dat\" has structure [BookNo, Book_Name, Author, Price].\n",
    "# i. Write a user defined function createFile() to input data for a record and add to Book.dat.\n",
    "# ii. Write a function countRec(Author) in Python which accepts the Author name as parameter \n",
    "# and count and return number of books by the given Author are stored in the binary file \"Book.dat\"\n",
    "\n",
    "import pickle\n",
    "def book():\n",
    "    with open(\"book.dat\",\"ab\") as f:\n",
    "        BookNo=int(input(\"Book Number : \")) \n",
    "        Book_Name=input(\"Name : \") \n",
    "        Author = input(\"Author : \") \n",
    "        Price = int(input(\"Price : \"))\n",
    "        lst=[BookNo, Book_Name, Author, Price]\n",
    "        pickle.dump(lst,f)\n",
    "        \n",
    "        \n",
    "def countRec(Author):\n",
    "    count=0\n",
    "    file = open(\"book.dat\",\"rb\")\n",
    "    try:\n",
    "        while True:\n",
    "            record = pickle.load(file)\n",
    "            if record[2]==Author:\n",
    "                count+=1\n",
    "    except EOFError:\n",
    "        pass\n",
    "    return count\n",
    "    file.close()\n",
    "\n",
    "countRec(\"sam\")\n",
    "\n",
    "            "
   ]
  },
  {
   "cell_type": "code",
   "execution_count": 107,
   "metadata": {},
   "outputs": [
    {
     "data": {
      "text/plain": [
       "2"
      ]
     },
     "execution_count": 107,
     "metadata": {},
     "output_type": "execute_result"
    }
   ],
   "source": [
    "# A binary file \"STUDENT.DAT\" has structure (admission_number, Name, Percentage). \n",
    "# Write a function count_rec() in Python that would read contents of the file \"STUDENT.DAT\" \n",
    "# and display the details of those students whose percentage is above 75. \n",
    "# Also display number of students scoring above 75%\n",
    "\n",
    "import pickle\n",
    "def student():\n",
    "    f=open(\"student.dat\",\"ab\")\n",
    "    admission_number=int(input(\"Enter the admission number: \"))\n",
    "    name=input(\"enter the name: \")\n",
    "    percentage=int(input(\"enter the percentage: \"))\n",
    "    lst=[admission_number,name,percentage]\n",
    "    pickle.dump(lst,f)\n",
    "    f.close()\n",
    "\n",
    "def count_rec():\n",
    "    f = open(\"student.dat\",\"rb\")\n",
    "    count=0\n",
    "    try:\n",
    "        while True:\n",
    "            record = pickle.load(f)\n",
    "            if int(record[2])>75:\n",
    "                count+=1\n",
    "    except EOFError:\n",
    "        pass\n",
    "    return count\n",
    "    file.close()\n",
    " \n",
    "count_rec()"
   ]
  },
  {
   "cell_type": "code",
   "execution_count": 109,
   "metadata": {},
   "outputs": [
    {
     "data": {
      "text/plain": [
       "['1234', 'shanu', 45000]"
      ]
     },
     "execution_count": 109,
     "metadata": {},
     "output_type": "execute_result"
    }
   ],
   "source": [
    "# Given a binary file employee.dat, created using dictionary object having keys: (empcode, name, and salary)\n",
    "\n",
    "# Write a python function that add one more record at the end of file.\n",
    "# Write a python function that display all employee records whose salary is more that 30000\n",
    "\n",
    "import pickle\n",
    "def employee():\n",
    "    f=open(\"employee.dat\",\"ab\")\n",
    "    empcode=input(\"Enter the employee code:\")\n",
    "    name=input(\"Enter the name:\")\n",
    "    salary=int(input(\"Enter the salary:\"))\n",
    "    lst=[empcode,name,salary]\n",
    "    pickle.dump(lst,f)\n",
    "    \n",
    "def emp_rec():\n",
    "    f=open(\"employee.dat\",\"rb\")\n",
    "    try:\n",
    "        while True:\n",
    "            record=pickle.load(f)\n",
    "            if(int(record[2])>30000):\n",
    "                return record\n",
    "    except EOFError:\n",
    "        pass\n",
    "    f.close()\n",
    "\n",
    "emp_rec()\n"
   ]
  },
  {
   "cell_type": "code",
   "execution_count": 111,
   "metadata": {},
   "outputs": [
    {
     "name": "stdout",
     "output_type": "stream",
     "text": [
      "Enter the roll number: 1005\n",
      "Enter the name: sam\n",
      "enter the class: 5\n",
      "Enter the fees: 4500\n"
     ]
    },
    {
     "data": {
      "text/plain": [
       "[1005, 'sam', '5', '4500']"
      ]
     },
     "execution_count": 111,
     "metadata": {},
     "output_type": "execute_result"
    }
   ],
   "source": [
    "# Write a function to search and display details of student whose rollno is '1005' \n",
    "# from the binary file student.dat having structure [rollno, name, class and fees].\n",
    "\n",
    "import pickle \n",
    "def student():\n",
    "    f=open(\"student.dat\",\"wb\")\n",
    "    rollno=int(input(\"Enter the roll number: \"))\n",
    "    name=input(\"Enter the name: \")\n",
    "    std=input(\"enter the class: \")\n",
    "    fees=input(\"Enter the fees: \")\n",
    "    lst=[rollno, name, std, fees]\n",
    "    pickle.dump(lst,f)\n",
    "    f.close()\n",
    "    f1=open(\"student.dat\", \"rb\")\n",
    "    try:\n",
    "        while True:\n",
    "            record=pickle.load(f1)\n",
    "            if(int(record[0])==1005):\n",
    "                return record\n",
    "    except EOFError:\n",
    "        pass\n",
    "    f.close()\n",
    "    \n",
    "student()\n",
    "\n",
    "    "
   ]
  },
  {
   "cell_type": "code",
   "execution_count": 129,
   "metadata": {},
   "outputs": [
    {
     "data": {
      "text/plain": [
       "8000"
      ]
     },
     "execution_count": 129,
     "metadata": {},
     "output_type": "execute_result"
    }
   ],
   "source": [
    "# A binary file school.dat has structure(rollno, name, class, fees)\n",
    "\n",
    "# Write a definition for function total_fees( ) that reads each object of file and calculate \n",
    "# the total fees of students and display the same.\n",
    "\n",
    "\n",
    "\n",
    "import pickle\n",
    "def student():\n",
    "    f=open(\"student.dat\",\"ab\")\n",
    "    rollno=int(input(\"Enter the roll number: \"))\n",
    "    name=input(\"Enter the name: \")\n",
    "    std=input(\"enter the class: \")\n",
    "    fees=input(\"Enter the fees: \")\n",
    "    lst=[rollno, name, std, fees]\n",
    "    pickle.dump(lst,f)\n",
    "    f.close()\n",
    "\n",
    "def total_fees():\n",
    "    f = open(\"student.dat\",\"rb\")\n",
    "    count=0\n",
    "    try:\n",
    "        while True:\n",
    "            record = pickle.load(f)\n",
    "            count+=int(record[3])\n",
    "    except EOFError:\n",
    "        pass\n",
    "    return count\n",
    "    file.close()\n",
    " \n",
    "total_fees()"
   ]
  },
  {
   "cell_type": "code",
   "execution_count": 141,
   "metadata": {},
   "outputs": [
    {
     "data": {
      "text/plain": [
       "3"
      ]
     },
     "execution_count": 141,
     "metadata": {},
     "output_type": "execute_result"
    }
   ],
   "source": [
    "# A binary file players.dat, containing records of following list format: [code, name, country and total runs]\n",
    "\n",
    "# 1. Write a python function that display all records where player name starts from 'A'\n",
    "# 2. Write a python function that accept country as an argument and count and display \n",
    "#     the number of players of that country.\n",
    "# 3. Write a python function that add one record at the end of file.\n",
    "import pickle\n",
    "def players():\n",
    "    f=open(\"players.dat\",\"ab\")\n",
    "    code=input(\"Enter the code: \")\n",
    "    name=input(\"Enter the name: \")\n",
    "    country=input(\"Enter the country: \")\n",
    "    total_runs=input(\"Enter the total runs: \")\n",
    "    lst=[code, name, country, total_runs]\n",
    "    pickle.dump(lst,f)\n",
    "    \n",
    "\n",
    "def records():\n",
    "    f=open(\"players.dat\",\"rb\")\n",
    "    try:\n",
    "        while True:\n",
    "            rec=pickle.load(f)\n",
    "            if(rec[1].startswith(\"A\")):\n",
    "                return rec\n",
    "    except EOFError:\n",
    "        pass\n",
    "    \n",
    "def con(country):\n",
    "    f=open(\"players.dat\",\"rb\")\n",
    "    count=0\n",
    "    try:\n",
    "        while True:\n",
    "            rec=pickle.load(f)\n",
    "            if(rec[2]==country):\n",
    "                count+=1\n",
    "    \n",
    "    except EOFError:\n",
    "        pass\n",
    "    return count\n",
    "    f.close()\n",
    "# records()\n",
    "con(\"India\")\n",
    "# players()"
   ]
  },
  {
   "cell_type": "code",
   "execution_count": 157,
   "metadata": {
    "ExecuteTime": {
     "end_time": "2021-05-29T10:46:59.140338Z",
     "start_time": "2021-05-29T10:46:59.135100Z"
    }
   },
   "outputs": [],
   "source": [
    "# Given a binary file game.dat, containing records of following list format: [game_name, participants]\n",
    "\n",
    "# Write a function in Python that would read contents from the file game.dat and \n",
    "# creates a file named basket.dat copying only those records from game.dat where the game name is \"Basket Ball\"\n",
    "\n",
    "import pickle\n",
    "def game():\n",
    "    f=open(\"game.dat\",\"ab\")\n",
    "    game_name=input(\"Enter the game name: \")\n",
    "    participants=input(\"Enter the number of participants: \")\n",
    "    lst=[game_name,participants]\n",
    "    pickle.dump(lst,f)\n",
    "\n",
    "    \n",
    "def base_game():\n",
    "    f=open(\"game.dat\",\"rb\")\n",
    "    try:\n",
    "        while True:\n",
    "            rec=pickle.load(f)\n",
    "            if(rec[0]==\"Basket Ball\"):\n",
    "                f1=open(\"basket.dat\",\"ab\")\n",
    "                game_name=rec[0]\n",
    "                participants=rec[1]\n",
    "                lst=[game_name,participants]\n",
    "                pickle.dump(lst,f1)\n",
    "                f1.close()\n",
    "    except EOFError:\n",
    "        pass\n",
    "    \n",
    "    f.close()\n",
    "\n",
    "base_game()\n",
    "\n"
   ]
  },
  {
   "cell_type": "code",
   "execution_count": null,
   "metadata": {},
   "outputs": [],
   "source": []
  }
 ],
 "metadata": {
  "kernelspec": {
   "display_name": "Python 3 (ipykernel)",
   "language": "python",
   "name": "python3"
  },
  "language_info": {
   "codemirror_mode": {
    "name": "ipython",
    "version": 3
   },
   "file_extension": ".py",
   "mimetype": "text/x-python",
   "name": "python",
   "nbconvert_exporter": "python",
   "pygments_lexer": "ipython3",
   "version": "3.9.7"
  }
 },
 "nbformat": 4,
 "nbformat_minor": 2
}
