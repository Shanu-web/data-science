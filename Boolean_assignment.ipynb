{
 "cells": [
  {
   "cell_type": "code",
   "execution_count": 5,
   "id": "61a8fad5",
   "metadata": {},
   "outputs": [
    {
     "name": "stdout",
     "output_type": "stream",
     "text": [
      "Id of a: True  and type of a: <class 'bool'>\n"
     ]
    }
   ],
   "source": [
    "# Declare a boolean value and store it in a variable.\n",
    "# Check the type and print the id of the same.\n",
    "\n",
    "a = True\n",
    "print(\"Id of a:\", a ,\" and type of a:\", type(a))"
   ]
  },
  {
   "cell_type": "code",
   "execution_count": 23,
   "id": "e6153a7a",
   "metadata": {},
   "outputs": [
    {
     "name": "stdout",
     "output_type": "stream",
     "text": [
      "sum of boolean: 2\n",
      "difference of boolean: 0\n",
      "product of boolean: 1\n",
      "Division of boolean: 1.0\n",
      "Remainder: 0\n",
      "Quotient: 1\n",
      "Power: 1\n"
     ]
    }
   ],
   "source": [
    "# Arithmetic Operations on boolean data\n",
    "# Take two different boolean values.\n",
    "# Store them in two different variables.\n",
    "# Do below operations on them:-\n",
    "# Find sum of both values\n",
    "# Find difference between them\n",
    "# Find the product of both.\n",
    "# Find value after dividing first value with second value\n",
    "# Find the remainder after dividing first value with second value\n",
    "# Find the quotient after dividing first value with second value\n",
    "# Find the result of first value to the power of second value.\n",
    "\n",
    "print(\"sum of boolean:\", (True+True))\n",
    "print(\"difference of boolean:\", True-True)\n",
    "print('product of boolean:', True*True)\n",
    "print('Division of boolean:', True/True)\n",
    "print(\"Remainder:\", True%True)\n",
    "print(\"Quotient:\", True//True)\n",
    "print(\"Power:\", True**False)"
   ]
  },
  {
   "cell_type": "code",
   "execution_count": 24,
   "id": "9989e680",
   "metadata": {},
   "outputs": [
    {
     "name": "stdout",
     "output_type": "stream",
     "text": [
      "True\n",
      "False\n",
      "True\n",
      "False\n"
     ]
    }
   ],
   "source": [
    "# Comparison Operators on boolean values\n",
    "# Take two different boolean values.\n",
    "# Store them in two different variables.\n",
    "# Do below operations on them:-\n",
    "# Compare these two values with below operator:-\n",
    "# Greater than, '>'\n",
    "# less than, '<'\n",
    "# Greater than or equal to, '>='\n",
    "# Less than or equal to, '<='\n",
    "# Observe their output(return type should be boolean)\n",
    "\n",
    "a=True\n",
    "b=False\n",
    "print(a>b)\n",
    "print(a<b)\n",
    "print(a>=b)\n",
    "print(a<=b)\n"
   ]
  },
  {
   "cell_type": "code",
   "execution_count": 25,
   "id": "29cfa70d",
   "metadata": {},
   "outputs": [
    {
     "name": "stdout",
     "output_type": "stream",
     "text": [
      "False\n",
      "True\n"
     ]
    }
   ],
   "source": [
    "# Equality Operator\n",
    "# Take two different boolean values.\n",
    "# Store them in two different variables.\n",
    "# Equate them using equality operators (==, !=)\n",
    "# Observe the output(return type should be boolean)\n",
    "\n",
    "a=True\n",
    "b=False \n",
    "print(a==b)\n",
    "print(a!=b)"
   ]
  },
  {
   "cell_type": "code",
   "execution_count": 26,
   "id": "3b14b313",
   "metadata": {},
   "outputs": [
    {
     "name": "stdout",
     "output_type": "stream",
     "text": [
      "True\n",
      "False\n",
      "False\n",
      "False\n",
      "True\n",
      "True\n",
      "True\n",
      "False\n",
      "False\n",
      "True\n"
     ]
    }
   ],
   "source": [
    "# Logical operators\n",
    "# Observe the output of below code\n",
    "# Cross check the output manually\n",
    "print(True and True)\n",
    "print(False and True)\n",
    "print(True and False)\n",
    "print(False and False)\n",
    "print(True or True)\n",
    "print(False or True)\n",
    "print(True or False)\n",
    "print(False or False)\n",
    "print(not True)\n",
    "print(not False)"
   ]
  },
  {
   "cell_type": "code",
   "execution_count": 27,
   "id": "fd981231",
   "metadata": {},
   "outputs": [
    {
     "name": "stdout",
     "output_type": "stream",
     "text": [
      "False\n",
      "True\n",
      "True\n",
      "-2\n",
      "4\n",
      "0\n"
     ]
    }
   ],
   "source": [
    "# Bitwise Operators\n",
    "# Do below operations on the values provided below:-\n",
    "# Bitwise and(&) --------------> True, True -------> Output is True\n",
    "# Bitwise or(|) --------------> True, False -------> Output is True\n",
    "# Bitwise(^) --------------> True, False -------> Output is True\n",
    "# Bitwise negation(~) ---------> True -------> Output is -2\n",
    "# Bitwise left shift ---------> True,2 -------> Output is 4\n",
    "# Bitwise right shift ---------> True,2 -------> Output is 0\n",
    "# Cross check the output manually\n",
    "\n",
    "print(True&False)\n",
    "print(True|False)\n",
    "print(True^False)\n",
    "print(~True)\n",
    "print(True<<2)\n",
    "print(True>>2)\n"
   ]
  },
  {
   "cell_type": "code",
   "execution_count": 28,
   "id": "bd979adc",
   "metadata": {},
   "outputs": [
    {
     "name": "stdout",
     "output_type": "stream",
     "text": [
      "True\n",
      "False\n",
      "True\n",
      "False\n"
     ]
    }
   ],
   "source": [
    "# What is the output of expression inside the print statement. Cross\n",
    "# check before running the program.\n",
    "a = True\n",
    "b = True\n",
    "print(a is b) #True or False? #\n",
    "print(a is not b) #True or False?\n",
    "\n",
    "a = False\n",
    "b = False\n",
    "print(a is b) #True or False?\n",
    "print(a is not b) #True or False?"
   ]
  },
  {
   "cell_type": "code",
   "execution_count": 29,
   "id": "a02e8eb1",
   "metadata": {},
   "outputs": [
    {
     "name": "stdout",
     "output_type": "stream",
     "text": [
      "True\n",
      "True\n",
      "True\n",
      "True\n",
      "True\n"
     ]
    }
   ],
   "source": [
    "# Membership operation\n",
    "# in, not in are two membership operators and it returns boolean value\n",
    "print(True in [10,10.20,10+20j,'Python', True])\n",
    "print(False in (10,10.20,10+20j,'Python', False))\n",
    "print(True in {1,2,3, True})\n",
    "print(True in {True:100, False:200, True:300})\n",
    "print(False in {True:100, False:200, True:300})"
   ]
  },
  {
   "cell_type": "code",
   "execution_count": null,
   "id": "babbb527",
   "metadata": {},
   "outputs": [],
   "source": []
  }
 ],
 "metadata": {
  "kernelspec": {
   "display_name": "Python 3 (ipykernel)",
   "language": "python",
   "name": "python3"
  },
  "language_info": {
   "codemirror_mode": {
    "name": "ipython",
    "version": 3
   },
   "file_extension": ".py",
   "mimetype": "text/x-python",
   "name": "python",
   "nbconvert_exporter": "python",
   "pygments_lexer": "ipython3",
   "version": "3.9.7"
  }
 },
 "nbformat": 4,
 "nbformat_minor": 5
}
